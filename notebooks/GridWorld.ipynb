{
 "cells": [
  {
   "cell_type": "code",
   "execution_count": 1,
   "metadata": {},
   "outputs": [],
   "source": [
    "import ReinforcementLearning.FiniteMarkovDecisionProcesses as MDP"
   ]
  },
  {
   "cell_type": "code",
   "execution_count": 22,
   "metadata": {},
   "outputs": [
    {
     "data": {
      "text/plain": [
       "4×4 Matrix{Float64}:\n",
       " 15.0   1.0   2.0   3.0\n",
       "  4.0   5.0   6.0   7.0\n",
       "  8.0   9.0  10.0  11.0\n",
       " 12.0  13.0  14.0  15.0"
      ]
     },
     "metadata": {},
     "output_type": "display_data"
    }
   ],
   "source": [
    "function V_to_matrix_form(V)\n",
    "    VV = Matrix{Float64}(undef, 4, 4)\n",
    "    VV[1,1] = round(V[15]; digits=2)\n",
    "    for i = 1:14\n",
    "        k = div(i,4)\n",
    "        ℓ = rem(i,4)\n",
    "        VV[k+1, ℓ+1] = round(V[i]; digits=2)\n",
    "    end\n",
    "    VV[4,4] = VV[1,1]\n",
    "    return VV\n",
    "end\n",
    "\n",
    "V_test = 1:15\n",
    "V_to_matrix_form(V_test)"
   ]
  },
  {
   "cell_type": "code",
   "execution_count": 3,
   "metadata": {},
   "outputs": [
    {
     "data": {
      "text/plain": [
       "4×4 Matrix{Char}:\n",
       " '█'  '→'  '↓'  '←'\n",
       " '←'  '→'  '←'  '→'\n",
       " '→'  '↑'  '↓'  '↓'\n",
       " '↓'  '→'  '↓'  '█'"
      ]
     },
     "metadata": {},
     "output_type": "display_data"
    }
   ],
   "source": [
    "function action_to_char(a)\n",
    "    if a == 1 # up\n",
    "        return '↑'\n",
    "    elseif a == 2 # down\n",
    "        return '↓'\n",
    "    elseif a == 3 # right\n",
    "        return '→'\n",
    "    elseif a == 4 # left\n",
    "        return '←'\n",
    "    else\n",
    "        return '?'\n",
    "    end\n",
    "end\n",
    "\n",
    "function P_to_matrix_form(P)\n",
    "    PP = Matrix{Char}(undef, 4, 4)\n",
    "    PP[1,1] = '█'\n",
    "    for i = 1:14\n",
    "        k = div(i,4)\n",
    "        ℓ = rem(i,4)\n",
    "        PP[k+1, ℓ+1] = action_to_char(P[i])\n",
    "    end\n",
    "    PP[4,4] = '█'\n",
    "    return PP\n",
    "end\n",
    "\n",
    "P_test = rand(1:4, 15)\n",
    "P_to_matrix_form(P_test)"
   ]
  },
  {
   "cell_type": "code",
   "execution_count": 4,
   "metadata": {},
   "outputs": [],
   "source": [
    "next_states = [\n",
    "    # 1 (up)  2 (down)  3 (right)  4 (left) \n",
    "      1       5         2         15         #  1\n",
    "      2       6         3          1         #  2 \n",
    "      3       7         3          2         #  3\n",
    "     15       8         5          4         #  4\n",
    "      1       9         6          4         #  5\n",
    "      2      10         7          5         #  6\n",
    "      3      11         7          6         #  7\n",
    "      4      12         9          8         #  8\n",
    "      5      13        10          8         #  9\n",
    "      6      14        11          9         # 10\n",
    "      7      15        11         10         # 11\n",
    "      8      12        13         12         # 12\n",
    "      9      13        14         12         # 13\n",
    "     10      14        15         13         # 14\n",
    "     15      15        15         15         # 15\n",
    "]\n",
    "\n",
    "rewards = -1*ones(size(next_states))\n",
    "rewards[15, :] .= 0\n",
    "\n",
    "mdp = MDP.DeterministicFiniteMDP((s,a)->next_states[s, a], (s,a)->rewards[s, a], 4, 15);"
   ]
  },
  {
   "cell_type": "code",
   "execution_count": 5,
   "metadata": {},
   "outputs": [],
   "source": [
    "policy = 0.25*ones(size(next_states)...);  # Vector{Int64}(undef, size(next_states, 1))"
   ]
  },
  {
   "cell_type": "code",
   "execution_count": 6,
   "metadata": {},
   "outputs": [
    {
     "data": {
      "text/plain": [
       "(173, true)"
      ]
     },
     "metadata": {},
     "output_type": "display_data"
    }
   ],
   "source": [
    "V = Vector{Float64}(undef, size(next_states, 1))\n",
    "V[1] = 0\n",
    "Q = MDP.create_Q_from_V(V, size(next_states, 2))\n",
    "iters_no, converged = MDP.evaluate_policy!(V, Q, mdp, policy, 1.0; tol = 1e-4, maxiter = 1000)"
   ]
  },
  {
   "cell_type": "code",
   "execution_count": 7,
   "metadata": {},
   "outputs": [
    {
     "data": {
      "text/plain": [
       "4×4 Matrix{Float64}:\n",
       "   0.0  -14.0  -20.0  -22.0\n",
       " -14.0  -18.0  -20.0  -20.0\n",
       " -20.0  -20.0  -18.0  -14.0\n",
       " -22.0  -20.0  -14.0    0.0"
      ]
     },
     "metadata": {},
     "output_type": "display_data"
    }
   ],
   "source": [
    "V_to_matrix_form(round.(V; digits=2))"
   ]
  },
  {
   "cell_type": "code",
   "execution_count": 8,
   "metadata": {},
   "outputs": [
    {
     "data": {
      "text/plain": [
       "4×4 Matrix{Char}:\n",
       " '█'  '←'  '←'  '↓'\n",
       " '↑'  '↑'  '↓'  '↓'\n",
       " '↑'  '↑'  '→'  '↓'\n",
       " '↑'  '→'  '→'  '█'"
      ]
     },
     "metadata": {},
     "output_type": "display_data"
    }
   ],
   "source": [
    "P = MDP.create_P_from_Q(Q)\n",
    "MDP.P_from_Q!(P, Q)\n",
    "\n",
    "P_to_matrix_form(P)"
   ]
  },
  {
   "cell_type": "code",
   "execution_count": 25,
   "metadata": {},
   "outputs": [
    {
     "data": {
      "text/plain": [
       "(7, true)"
      ]
     },
     "metadata": {},
     "output_type": "display_data"
    }
   ],
   "source": [
    "P = rand(1:4, size(next_states, 1));\n",
    "iters_no, converged, V, Q = MDP.optimize_policy!(P, mdp, 1.0; tol = 1e-4, maxiter = 1000, policy_evaluation_maxiter = 1);\n",
    "iters_no, converged"
   ]
  },
  {
   "cell_type": "code",
   "execution_count": 26,
   "metadata": {},
   "outputs": [
    {
     "data": {
      "text/plain": [
       "4×4 Matrix{Char}:\n",
       " '█'  '←'  '←'  '↓'\n",
       " '↑'  '↑'  '↑'  '↓'\n",
       " '↑'  '↑'  '↓'  '↓'\n",
       " '↑'  '→'  '→'  '█'"
      ]
     },
     "metadata": {},
     "output_type": "display_data"
    }
   ],
   "source": [
    "P_to_matrix_form(P)"
   ]
  },
  {
   "cell_type": "code",
   "execution_count": 27,
   "metadata": {},
   "outputs": [
    {
     "data": {
      "text/plain": [
       "4×4 Matrix{Float64}:\n",
       "  0.0  -1.0  -2.0  -3.0\n",
       " -1.0  -2.0  -3.0  -2.0\n",
       " -2.0  -3.0  -2.0  -1.0\n",
       " -3.0  -2.0  -1.0   0.0"
      ]
     },
     "metadata": {},
     "output_type": "display_data"
    }
   ],
   "source": [
    "V_to_matrix_form(V)"
   ]
  }
 ],
 "metadata": {
  "kernelspec": {
   "display_name": "Julia 1.6.2",
   "language": "julia",
   "name": "julia-1.6"
  },
  "language_info": {
   "file_extension": ".jl",
   "mimetype": "application/julia",
   "name": "julia",
   "version": "1.6.2"
  },
  "orig_nbformat": 4
 },
 "nbformat": 4,
 "nbformat_minor": 2
}
